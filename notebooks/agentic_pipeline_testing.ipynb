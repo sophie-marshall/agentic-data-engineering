{
 "cells": [
  {
   "cell_type": "markdown",
   "metadata": {},
   "source": [
    "# Agentic Pipeline Testing\n",
    "\n",
    "Now that we have the individual pieces working, let's put it all together into a full Airflow pipeline."
   ]
  },
  {
   "cell_type": "code",
   "execution_count": 1,
   "metadata": {},
   "outputs": [],
   "source": [
    "import sys \n",
    "import subprocess\n",
    "\n",
    "# get root of current repo and add to our path\n",
    "root_dir = subprocess.check_output([\"git\", \"rev-parse\", \"--show-toplevel\"], stderr=subprocess.DEVNULL).decode(\"utf-8\").strip()\n",
    "\n",
    "sys.path.append(root_dir)"
   ]
  },
  {
   "cell_type": "markdown",
   "metadata": {},
   "source": [
    "## Extraction \n",
    "\n",
    "Content will be scraped from available public media RSS feeds. This job will be designed to run every night at 5PM (provided the server and scheduler are running) and will write outputs to the `agentic-de/bronze` data directory.\n",
    "\n",
    "The code blocks defined here will be consolidated into a single Airflow task in our Agentic Pipeline"
   ]
  },
  {
   "cell_type": "code",
   "execution_count": 2,
   "metadata": {},
   "outputs": [
    {
     "data": {
      "text/html": [
       "<pre style=\"white-space:pre;overflow-x:auto;line-height:normal;font-family:Menlo,'DejaVu Sans Mono',consolas,'Courier New',monospace\"><span style=\"color: #808000; text-decoration-color: #808000; font-weight: bold\">/Users/srmarshall/Desktop/code/personal/agentic-data-engineering/airflow/dags/utils/helpers.py:</span><span style=\"color: #808000; text-decoration-color: #808000; font-weight: bold\">23</span><span style=\"color: #808000; text-decoration-color: #808000; font-weight: bold\"> GuessedAtParserWarning</span><span style=\"color: #808000; text-decoration-color: #808000\">: No parser was explicitly specified, so I'm using the best available HTML parser for this system </span><span style=\"color: #808000; text-decoration-color: #808000; font-weight: bold\">(</span><span style=\"color: #808000; text-decoration-color: #808000\">\"html.parser\"</span><span style=\"color: #808000; text-decoration-color: #808000; font-weight: bold\">)</span><span style=\"color: #808000; text-decoration-color: #808000\">. This usually isn't a problem, but if you run this code on another system, or in a different virtual environment, it may use a different parser and behave differently.</span>\n",
       "\n",
       "<span style=\"color: #808000; text-decoration-color: #808000\">The code that caused this warning is on line </span><span style=\"color: #808000; text-decoration-color: #808000; font-weight: bold\">23</span><span style=\"color: #808000; text-decoration-color: #808000\"> of the file /Users/srmarshall/Desktop/code/personal/agentic-data-engineering/airflow/dags/utils/helpers.py. To get rid of this warning, pass the additional argument </span><span style=\"color: #808000; text-decoration-color: #808000\">'features=\"html.parser\"'</span><span style=\"color: #808000; text-decoration-color: #808000\"> to the BeautifulSoup constructor.</span>\n",
       "\n",
       "</pre>\n"
      ],
      "text/plain": [
       "\u001b[1;33m/Users/srmarshall/Desktop/code/personal/agentic-data-engineering/airflow/dags/utils/\u001b[0m\u001b[1;33mhelpers.py\u001b[0m\u001b[1;33m:\u001b[0m\u001b[1;33m23\u001b[0m\u001b[1;33m GuessedAtParserWarning\u001b[0m\u001b[33m: No parser was explicitly specified, so I'm using the best available HTML parser for this system \u001b[0m\u001b[1;33m(\u001b[0m\u001b[33m\"html.parser\"\u001b[0m\u001b[1;33m)\u001b[0m\u001b[33m. This usually isn't a problem, but if you run this code on another system, or in a different virtual environment, it may use a different parser and behave differently.\u001b[0m\n",
       "\n",
       "\u001b[33mThe code that caused this warning is on line \u001b[0m\u001b[1;33m23\u001b[0m\u001b[33m of the file \u001b[0m\u001b[33m/Users/srmarshall/Desktop/code/personal/agentic-data-engineering/airflow/dags/utils/\u001b[0m\u001b[33mhelpers.py.\u001b[0m\u001b[33m To get rid of this warning, pass the additional argument \u001b[0m\u001b[33m'\u001b[0m\u001b[33mfeatures\u001b[0m\u001b[33m=\u001b[0m\u001b[33m\"html\u001b[0m\u001b[33m.parser\"'\u001b[0m\u001b[33m to the BeautifulSoup constructor.\u001b[0m\n",
       "\n"
      ]
     },
     "metadata": {},
     "output_type": "display_data"
    },
    {
     "name": "stdout",
     "output_type": "stream",
     "text": [
      "Preparing to request 232 RSS feeds\n"
     ]
    }
   ],
   "source": [
    "from airflow.dags.utils.helpers import generate_npr_feed_urls\n",
    "\n",
    "# get RSS feeds from public media sources\n",
    "npr_rss_feeds = generate_npr_feed_urls()\n",
    "pbs_rss_feeds = [\n",
    "    \"https://www.pbs.org/newshour/feeds/rss/headlines\",\n",
    "    \"https://www.pbs.org/newshour/feeds/rss/politics\",\n",
    "    \"https://www.pbs.org/newshour/feeds/rss/brooks-and-capehart\"\n",
    "]\n",
    "\n",
    "# combine \n",
    "rss_feeds_to_crawl = npr_rss_feeds + pbs_rss_feeds\n",
    "\n",
    "# status update\n",
    "print(f\"Preparing to request {len(rss_feeds_to_crawl)} RSS feeds\")"
   ]
  },
  {
   "cell_type": "code",
   "execution_count": 3,
   "metadata": {},
   "outputs": [
    {
     "name": "stderr",
     "output_type": "stream",
     "text": [
      "Requesting RSS feeds: 100%|██████████| 1/1 [00:01<00:00,  1.24s/feed]\n"
     ]
    }
   ],
   "source": [
    "from airflow.dags.utils.helpers import request_rss_feed\n",
    "import tqdm\n",
    "\n",
    "raw_feed_data = []\n",
    "for url in tqdm.tqdm(rss_feeds_to_crawl[:1], desc=\"Requesting RSS feeds\", unit=\"feed\"):\n",
    "    try:\n",
    "        feed_data = request_rss_feed(url)\n",
    "        if feed_data:\n",
    "            raw_feed_data.append(feed_data)\n",
    "    except Exception as e:\n",
    "        print(f\"Error requesting {url}: {e}\")"
   ]
  },
  {
   "cell_type": "code",
   "execution_count": 5,
   "metadata": {},
   "outputs": [
    {
     "data": {
      "text/plain": [
       "{'rss_url': 'https://www.npr.org/rss/rss.php?id=1126',\n",
       " 'xml_doc': '<?xml version=\"1.0\" encoding=\"UTF-8\"?>\\n<rss xmlns:npr=\"https://www.npr.org/rss/\" xmlns:nprml=\"https://api.npr.org/nprml\" xmlns:itunes=\"http://www.itunes.com/dtds/podcast-1.0.dtd\" xmlns:content=\"http://purl.org/rss/1.0/modules/content/\" xmlns:dc=\"http://purl.org/dc/elements/1.1/\" xmlns:media=\"http://search.yahoo.com/mrss/\" version=\"2.0\">\\n  <channel>\\n    <title>NPR Topics: Africa</title>\\n    <link>https://www.npr.org/templates/story/story.php?storyId=1126</link>\\n    <description>Africa</description>\\n    <language>en</language>\\n    <copyright>Copyright 2024 NPR - For Personal Use Only</copyright>\\n    <generator>Story API Shim 1.2.24</generator>\\n    <lastBuildDate>Thu, 12 Jun 2025 09:51:38 -0400</lastBuildDate>\\n    <image>\\n      <url>https://media.npr.org/images/podcasts/primary/npr_generic_image_300.jpg?s=200</url>\\n      <title>NPR Topics: Africa</title>\\n      <link>https://www.npr.org/sections/africa/</link>\\n    </image>\\n    <item>\\n      <title>Torture and treason trials: what&apos;s happening in Tanzania?</title>\\n      <description>Tanzania&apos;s government is facing growing accusations of repression after prominent human rights defenders say they were beaten and sexually assaulted while in custody.</description>\\n      <pubDate>Sat, 07 Jun 2025 07:00:00 -0400</pubDate>\\n      <link>https://www.npr.org/2025/06/07/nx-s1-5425361/torture-treason-trials-tanzania</link>\\n      <guid>https://www.npr.org/2025/06/07/nx-s1-5425361/torture-treason-trials-tanzania</guid>\\n      <content:encoded><![CDATA[<img src=\\'https://npr.brightspotcdn.com/dims3/default/strip/false/crop/4200x2800+0+0/resize/4200x2800!/?url=http%3A%2F%2Fnpr-brightspot.s3.amazonaws.com%2Fd5%2F89%2F02b5836343728615e99af0666238%2Fgettyimages-2217615193.jpg\\' alt=\\'Kenyan journalist and human rights activist Boniface Mwangi (R) and Ugandan activist Agather Atuhaire (L) during a joint press conference in Nairobi on June 2, 2025 following their three-day detention and alleged torture by Tanzanian authorities.\\'/><p>Tanzania\\'s government is facing growing accusations of repression after prominent human rights defenders say they were beaten and sexually assaulted while in custody.</p><p>(Image credit: Tony Karumba)</p><img src=\\'https://media.npr.org/include/images/tracking/npr-rss-pixel.png?story=nx-s1-5425361\\' />]]></content:encoded>\\n      <dc:creator>Kate Bartlett</dc:creator>\\n    </item>\\n    <item>\\n      <title>World Reaction to the Latest U.S. Travel Ban</title>\\n      <description>President Donald Trump has issued a new travel ban, barring travelers from 12 countries and partially restricting travelers from seven others from coming to the U.S. We hear from reporters in Asia, Latin America and Africa to hear how targeted countries might be affected.</description>\\n      <pubDate>Thu, 05 Jun 2025 18:01:20 -0400</pubDate>\\n      <link>https://www.npr.org/2025/06/05/1253689632/world-reaction-to-the-latest-u-s-travel-ban</link>\\n      <guid>https://www.npr.org/2025/06/05/1253689632/world-reaction-to-the-latest-u-s-travel-ban</guid>\\n      <content:encoded><![CDATA[<p>President Donald Trump has issued a new travel ban, barring travelers from 12 countries and partially restricting travelers from seven others from coming to the U.S. We hear from reporters in Asia, Latin America and Africa to hear how targeted countries might be affected.</p><img src=\\'https://media.npr.org/include/images/tracking/npr-rss-pixel.png?story=1253689632\\' />]]></content:encoded>\\n      <dc:creator>Kate Bartlett</dc:creator>\\n    </item>\\n    <item>\\n      <title>Darfur: bearing the brunt of over two years of civil war in Sudan</title>\\n      <description>An attack on what would have been the first aid delivery to the beseiged city of El Fasher in over a year has dealt a major blow in the Darfur region. The assault comes as humanitarian groups warn that collapsing healthcare, unrelenting violence, and a paralyzed aid effort are pushing civilians to breaking point.</description>\\n      <pubDate>Wed, 04 Jun 2025 16:29:19 -0400</pubDate>\\n      <link>https://www.npr.org/2025/06/04/nx-s1-5423668/darfur-civil-war-sudan-aid-attack</link>\\n      <guid>https://www.npr.org/2025/06/04/nx-s1-5423668/darfur-civil-war-sudan-aid-attack</guid>\\n      <content:encoded><![CDATA[<img src=\\'https://npr.brightspotcdn.com/dims3/default/strip/false/crop/3041x2027+0+0/resize/3041x2027!/?url=http%3A%2F%2Fnpr-brightspot.s3.amazonaws.com%2Fd4%2F9d%2F10f15fca4f69bb2c1233410284d7%2Fgettyimages-2209632504-1.jpg\\' alt=\\'People who fled violence in Darfur walk through a makeshift encampment in the western Darfur region on April 13, 2025.\\'/><p>An attack on what would have been the first aid delivery to the beseiged city of El Fasher in over a year has dealt a major blow in the Darfur region. The assault comes as humanitarian groups warn that collapsing healthcare, unrelenting violence, and a paralyzed aid effort are pushing civilians to breaking point.</p><p>(Image credit: AFP)</p><img src=\\'https://media.npr.org/include/images/tracking/npr-rss-pixel.png?story=nx-s1-5423668\\' />]]></content:encoded>\\n      <dc:creator>Kate Bartlett</dc:creator>\\n    </item>\\n    <item>\\n      <title>What Trump&apos;s fixation on &apos;white genocide&apos; in South Africa tells us about the U.S.</title>\\n      <description>How the false notion of &quot;white genocide&quot; traveled from the political fringes to the Oval Office. The week on Code Switch, we&apos;re talking to a reporter who was in the room during a meeting when President Trump pushed this conspiracy theory on the president of South Africa. And we&apos;re digging into what Trump&apos;s fixation on white South Africans tell us about anxieties over white replacement here in the U.S.</description>\\n      <pubDate>Wed, 04 Jun 2025 03:00:59 -0400</pubDate>\\n      <link>https://www.npr.org/2025/06/04/1253616083/trumps-fixation-on-white-genocide</link>\\n      <guid>https://www.npr.org/2025/06/04/1253616083/trumps-fixation-on-white-genocide</guid>\\n      <content:encoded><![CDATA[<img src=\\'https://media.npr.org/assets/img/2025/06/02/single-portrait-08-3-_wide-02876f3c89a8dd7bf71bbd27a7a15e2e931aee81.jpg\\' alt=\\'South African President Ramaphosa meets President Trump amid tensions over Washington\\'s resettlement of white Afrikaners that the U.S. president claims are the victims of \"genocide.\"\\'/><p>How the false notion of \"white genocide\" traveled from the political fringes to the Oval Office. The week on Code Switch, we\\'re talking to a reporter who was in the room during a meeting when President Trump pushed this conspiracy theory on the president of South Africa. And we\\'re digging into what Trump\\'s fixation on white South Africans tell us about anxieties over white replacement here in the U.S.</p><img src=\\'https://media.npr.org/include/images/tracking/npr-rss-pixel.png?story=1253616083\\' />]]></content:encoded>\\n      <dc:creator>Gene Demby</dc:creator>\\n    </item>\\n    <item>\\n      <title>&quot;White genocide&quot; isn&apos;t a thing. Trump disagrees.</title>\\n      <description>You may have heard that the U.S. &lt;a href=&quot;https://www.npr.org/2025/05/12/nx-s1-5395067/first-group-afrikaner-refugees-arrive&quot;&gt;gained&lt;/a&gt; 59 new residents last month from South Africa - and that &lt;a href=&quot;https://apnews.com/article/trump-south-africa-refugees-afrikaner-white-f5ed3aa615e0448157f8c4752d2a0cc7&quot;&gt;more came&lt;/a&gt; this past weekend. They&apos;re all white Afrikaners: a white minority group descended from European colonists. Trump has given some of these white Afrikaners refugee status because he claims a &quot;white genocide&quot; is happening against them in South Africa. This claim is untrue. So where is it coming from? &lt;br&gt;&lt;br&gt;And why might this claim be politically expedient for the Trump administration? And what parallels can we see between some of the white Afrikaners and the American right? Brittany sits down with South African journalist &lt;a href=&quot;https://www.npr.org/people/1188789103/kate-bartlett&quot;&gt;Kate Bartlett&lt;/a&gt; and &lt;a href=&quot;https://www.newschool.edu/international-affairs/faculty/sean-jacobs/&quot;&gt;Sean Jacobs&lt;/a&gt;, professor of international affairs at the New School to get into it.</description>\\n      <pubDate>Wed, 04 Jun 2025 03:00:33 -0400</pubDate>\\n      <link>https://www.npr.org/2025/06/04/1263527127/white-afrikaners-links-american-right-south-africa</link>\\n      <guid>https://www.npr.org/2025/06/04/1263527127/white-afrikaners-links-american-right-south-africa</guid>\\n      <content:encoded><![CDATA[<img src=\\'https://media.npr.org/assets/img/2025/06/03/white-genocide-final-wide_wide-7b96648169409730b223bbab789d6548d37169aa.jpg\\' alt=\\'Why is the Trump administration offering refugee status to white Afrikaners?\\'/><p>You may have heard that the U.S. <a href=\"https://www.npr.org/2025/05/12/nx-s1-5395067/first-group-afrikaner-refugees-arrive\">gained</a> 59 new residents last month from South Africa - and that <a href=\"https://apnews.com/article/trump-south-africa-refugees-afrikaner-white-f5ed3aa615e0448157f8c4752d2a0cc7\">more came</a> this past weekend. They\\'re all white Afrikaners: a white minority group descended from European colonists. Trump has given some of these white Afrikaners refugee status because he claims a \"white genocide\" is happening against them in South Africa. This claim is untrue. So where is it coming from? <br><br>And why might this claim be politically expedient for the Trump administration? And what parallels can we see between some of the white Afrikaners and the American right? Brittany sits down with South African journalist <a href=\"https://www.npr.org/people/1188789103/kate-bartlett\">Kate Bartlett</a> and <a href=\"https://www.newschool.edu/international-affairs/faculty/sean-jacobs/\">Sean Jacobs</a>, professor of international affairs at the New School to get into it.</p><img src=\\'https://media.npr.org/include/images/tracking/npr-rss-pixel.png?story=1263527127\\' />]]></content:encoded>\\n      <dc:creator>Brittany Luse</dc:creator>\\n    </item>\\n    <item>\\n      <title>Healthcare System Collapses in Sudan&apos;s Capital</title>\\n      <description>The civil war in Sudan has been ongoing for more than two years causing some fifteen million people to be displaced and the collapse of the country&apos;s healthcare system in many places. In the capital Khartoum, there were once nearly 100 public and private medical facilities, now none are operational. We go to Khartoum to see how residents are coping with the lack of medical care.</description>\\n      <pubDate>Wed, 28 May 2025 15:56:15 -0400</pubDate>\\n      <link>https://www.npr.org/2025/05/28/1253247275/healthcare-system-collapses-in-sudans-capital</link>\\n      <guid>https://www.npr.org/2025/05/28/1253247275/healthcare-system-collapses-in-sudans-capital</guid>\\n      <content:encoded><![CDATA[<img src=\\'https://media.npr.org/assets/img/2025/05/28/_fai0145_slide-8c17f45db4485d275270841bf77c0b32029fdf78.jpg\\' alt=\\'Dr .Sara Abdurahaman at Al-Buluk Pediatric Hospital treats an 8-month old baby in the critical care unit of a malnutrition ward.\\'/><p>The civil war in Sudan has been ongoing for more than two years causing some fifteen million people to be displaced and the collapse of the country\\'s healthcare system in many places. In the capital Khartoum, there were once nearly 100 public and private medical facilities, now none are operational. We go to Khartoum to see how residents are coping with the lack of medical care.</p><img src=\\'https://media.npr.org/include/images/tracking/npr-rss-pixel.png?story=1253247275\\' />]]></content:encoded>\\n      <dc:creator>Emmanuel Akinwotu</dc:creator>\\n    </item>\\n    <item>\\n      <title>World Food Program head says peace critical to solve hunger in Congo</title>\\n      <description>NPR&apos;s Ari Shapiro talks with Cindy McCain, executive director of the World Food Program, about the crisis in the Democratic Republic of Congo and cuts to WFP funding.</description>\\n      <pubDate>Tue, 27 May 2025 16:21:57 -0400</pubDate>\\n      <link>https://www.npr.org/2025/05/27/nx-s1-5406808/world-food-program-head-says-peace-critical-to-solve-hunger-in-congo</link>\\n      <guid>https://www.npr.org/2025/05/27/nx-s1-5406808/world-food-program-head-says-peace-critical-to-solve-hunger-in-congo</guid>\\n      <content:encoded><![CDATA[<p>NPR\\'s Ari Shapiro talks with Cindy McCain, executive director of the World Food Program, about the crisis in the Democratic Republic of Congo and cuts to WFP funding.</p><img src=\\'https://media.npr.org/include/images/tracking/npr-rss-pixel.png?story=nx-s1-5406808\\' />]]></content:encoded>\\n      <dc:creator>Ari Shapiro</dc:creator>\\n    </item>\\n    <item>\\n      <title>Africa&apos;s new space agency could help solve problems on the ground</title>\\n      <description>NPR&apos;s Ayesha Rascoe talks with Nigerian space scientist Temidayo Oniosun about how the new African Space Agency could help make the continent more resilient to climate change and extreme weather.</description>\\n      <pubDate>Sun, 25 May 2025 09:41:30 -0400</pubDate>\\n      <link>https://www.npr.org/2025/05/25/nx-s1-5407875/africas-new-space-agency-could-help-solve-problems-on-the-ground</link>\\n      <guid>https://www.npr.org/2025/05/25/nx-s1-5407875/africas-new-space-agency-could-help-solve-problems-on-the-ground</guid>\\n      <content:encoded><![CDATA[<p>NPR\\'s Ayesha Rascoe talks with Nigerian space scientist Temidayo Oniosun about how the new African Space Agency could help make the continent more resilient to climate change and extreme weather.</p><img src=\\'https://media.npr.org/include/images/tracking/npr-rss-pixel.png?story=nx-s1-5407875\\' />]]></content:encoded>\\n      <dc:creator>Ayesha Rascoe</dc:creator>\\n    </item>\\n    <item>\\n      <title>Trump&apos;s debunked &apos;burial site&apos; video reopens &apos;wounds,&apos; says victim&apos;s son</title>\\n      <description>Trump&apos;s misleading video of a &apos;burial site&apos; for white South African farmers reopened &apos;new wounds,&apos; victim&apos;s son tells NPR.</description>\\n      <pubDate>Sat, 24 May 2025 08:00:00 -0400</pubDate>\\n      <link>https://www.npr.org/2025/05/24/nx-s1-5408981/trumps-debunked-burial-site-video-reopens-wounds-says-victims-son</link>\\n      <guid>https://www.npr.org/2025/05/24/nx-s1-5408981/trumps-debunked-burial-site-video-reopens-wounds-says-victims-son</guid>\\n      <content:encoded><![CDATA[<img src=\\'https://npr.brightspotcdn.com/dims3/default/strip/false/crop/8075x5386+0+0/resize/8075x5386!/?url=http%3A%2F%2Fnpr-brightspot.s3.amazonaws.com%2F06%2F76%2F828a63624520875a206949c77c2d%2Fgettyimages-2215661734.jpg\\' alt=\\'US President Donald Trump, right, and Cyril Ramaphosa, South Africa\\'s president, second right, as a video plays during a meeting in the Oval Office of the White House in Washington, DC, US, on Wednesday, May 21, 2025.\\'/><p>Trump\\'s misleading video of a \\'burial site\\' for white South African farmers reopened \\'new wounds,\\' victim\\'s son tells NPR.</p><p>(Image credit: Bloomberg)</p><img src=\\'https://media.npr.org/include/images/tracking/npr-rss-pixel.png?story=nx-s1-5408981\\' />]]></content:encoded>\\n      <dc:creator>Kate Bartlett</dc:creator>\\n    </item>\\n    <item>\\n      <title>South Africa&apos;s president is praised for staying calm during Trump&apos;s Oval Office ambush</title>\\n      <description>South Africans credit President Cyril Ramaphosa for keeping his cool as President Trump made a choreographed presentation accusing the country of murdering white farmers.</description>\\n      <pubDate>Thu, 22 May 2025 08:54:26 -0400</pubDate>\\n      <link>https://www.npr.org/2025/05/22/nx-s1-5406758/shock-and-anger-in-south-africa-after-oval-office-ambush</link>\\n      <guid>https://www.npr.org/2025/05/22/nx-s1-5406758/shock-and-anger-in-south-africa-after-oval-office-ambush</guid>\\n      <content:encoded><![CDATA[<img src=\\'https://npr.brightspotcdn.com/dims3/default/strip/false/crop/5686x3790+0+0/resize/5686x3790!/?url=http%3A%2F%2Fnpr-brightspot.s3.amazonaws.com%2F18%2F05%2F2afbe11c4800a9d2c533109474d6%2Fap25141661635189.jpg\\' alt=\\'President Trump meets South Africa\\'s President Cyril Ramaphosa in the Oval Office of the White House, Wednesday.\\'/><p>South Africans credit President Cyril Ramaphosa for keeping his cool as President Trump made a choreographed presentation accusing the country of murdering white farmers.</p><p>(Image credit: Evan Vucci)</p><img src=\\'https://media.npr.org/include/images/tracking/npr-rss-pixel.png?story=nx-s1-5406758\\' />]]></content:encoded>\\n      <dc:creator>Kate Bartlett</dc:creator>\\n    </item>\\n  </channel>\\n</rss>'}"
      ]
     },
     "execution_count": 5,
     "metadata": {},
     "output_type": "execute_result"
    }
   ],
   "source": [
    "raw_feed_data[0]"
   ]
  },
  {
   "cell_type": "code",
   "execution_count": null,
   "metadata": {},
   "outputs": [],
   "source": [
    "from airflow.dags.utils.aws import S3 \n",
    "import os \n",
    "\n",
    "# sample key for testing \n",
    "sample_key = \"bronze/05222025/https%3A%2F%2Fwww.npr.org%2Frss%2Frss.php%3Fid%3D10_05222025.xml\"\n",
    "\n",
    "# S3.upload_raw_rss_data(raw_feed_data[0], role_arn=os.getenv(\"DIGI_INNO_ROLE_ARN\"))\n",
    "metadata = S3.get_file_metadata(key=sample_key, chars_to_sample=500, role_arn=os.getenv(\"DIGI_INNO_ROLE_ARN\"))"
   ]
  },
  {
   "cell_type": "markdown",
   "metadata": {},
   "source": [
    "## Transformation \n",
    "\n",
    "Here's where we'll embed our Agent! It will help us make an intelligent decision about which transformation pipeline a given file should be sent to. "
   ]
  },
  {
   "cell_type": "code",
   "execution_count": 14,
   "metadata": {},
   "outputs": [
    {
     "name": "stdout",
     "output_type": "stream",
     "text": [
      "\n",
      "\n",
      "\u001b[1m> Entering new AgentExecutor chain...\u001b[0m\n",
      "[\u001b[34m2025-06-12T10:04:23.803-0400\u001b[0m] {\u001b[34m_client.py:\u001b[0m1026} INFO\u001b[0m - HTTP Request: POST https://api.openai.com/v1/chat/completions \"HTTP/1.1 200 OK\"\u001b[0m\n",
      "\u001b[32;1m\u001b[1;3mThe file content is an RSS feed from NPR, as indicated by the URL and the content preview. Therefore, the appropriate DAG to trigger would be the one related to NPR data.\n",
      "\n",
      "Action: TriggerTransformationDAG\n",
      "Action Input: transform_npr_data\u001b[0m\n",
      "Observation: \u001b[36;1m\u001b[1;3m{'status_code': 200, 'response': {'dag_run_id': 'manual__2025-06-12T14:04:23.805999+00:00', 'dag_id': 'transform_npr_data', 'logical_date': '2025-06-12T14:04:23.805999Z', 'queued_at': '2025-06-12T14:04:24.015518Z', 'start_date': None, 'end_date': None, 'data_interval_start': '2025-06-12T14:04:23.805999Z', 'data_interval_end': '2025-06-12T14:04:23.805999Z', 'run_after': '2025-06-12T14:04:23.805999Z', 'last_scheduling_decision': None, 'run_type': 'manual', 'state': 'queued', 'triggered_by': 'rest_api', 'conf': {}, 'note': None, 'dag_versions': [{'id': '01971349-3582-7e92-82ab-3870aa206c32', 'version_number': 1, 'dag_id': 'transform_npr_data', 'bundle_name': 'dags-folder', 'bundle_version': None, 'created_at': '2025-05-27T19:47:34.402720Z', 'bundle_url': None}], 'bundle_version': None}}\u001b[0m\n",
      "Thought:[\u001b[34m2025-06-12T10:04:25.156-0400\u001b[0m] {\u001b[34m_client.py:\u001b[0m1026} INFO\u001b[0m - HTTP Request: POST https://api.openai.com/v1/chat/completions \"HTTP/1.1 200 OK\"\u001b[0m\n",
      "\u001b[32;1m\u001b[1;3mI now know the final answer.\n",
      "\n",
      "Final Answer: The DAG 'transform_npr_data' was successfully triggered for the NPR RSS feed data.\u001b[0m\n",
      "\n",
      "\u001b[1m> Finished chain.\u001b[0m\n",
      "The DAG 'transform_npr_data' was successfully triggered for the NPR RSS feed data.\n"
     ]
    }
   ],
   "source": [
    "from airflow.dags.utils.agents.supervisor_agent import SupervisorAgent\n",
    "\n",
    "SupervisorAgent.trigger(metadata=metadata)"
   ]
  },
  {
   "cell_type": "markdown",
   "metadata": {},
   "source": [
    "## Loading \n",
    "\n",
    " This is the final step and is rather trivial. We could dump this into a database or right back into S3! If time allows, making note to come back and finish this out"
   ]
  }
 ],
 "metadata": {
  "kernelspec": {
   "display_name": "agentic-de",
   "language": "python",
   "name": "python3"
  },
  "language_info": {
   "codemirror_mode": {
    "name": "ipython",
    "version": 3
   },
   "file_extension": ".py",
   "mimetype": "text/x-python",
   "name": "python",
   "nbconvert_exporter": "python",
   "pygments_lexer": "ipython3",
   "version": "3.11.4"
  }
 },
 "nbformat": 4,
 "nbformat_minor": 2
}
